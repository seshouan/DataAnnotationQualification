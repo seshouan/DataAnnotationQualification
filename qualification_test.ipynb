{
 "cells": [
  {
   "cell_type": "code",
   "execution_count": 5,
   "id": "b7dfd08f-b2c9-41ae-b36a-5b3fede5e053",
   "metadata": {
    "tags": []
   },
   "outputs": [],
   "source": [
    "def decode(file):\n",
    "    \"\"\"\n",
    "    Decodes the message in the provided file\n",
    " \n",
    "    Parameters\n",
    "    ----------\n",
    "    file : string; file name to load codes from\n",
    " \n",
    "    Returns\n",
    "    -------\n",
    "    None (prints decoded message directly)\n",
    "    \"\"\"\n",
    "    \n",
    "    # encode data from the file\n",
    "    pyramid = [] # init an array for the pyramid-groupings of code word indexes -- note: you can make this global for debugging purposes\n",
    "    pyramid, dictionary = encode(file)\n",
    "    \n",
    "    # return the code corresponding to the last entry in each index pyramid row\n",
    "    result = ''\n",
    "    for row in pyramid:\n",
    "        result += dictionary.get(row[-1]) + ' '\n",
    "    \n",
    "    # format and print the decoded message\n",
    "    print(result.lower().strip())\n",
    "        \n",
    "def encode(file):\n",
    "    \"\"\"\n",
    "    Stores the index keys of coded words into a pyramid structure\n",
    " \n",
    "    Parameters\n",
    "    ----------\n",
    "    file : string; file name to load codes from\n",
    " \n",
    "    Returns\n",
    "    -------\n",
    "    array[arrays]; array groupings for each step of the staircase\n",
    "    dictionary; repository of all the code words\n",
    "    \"\"\"\n",
    "    \n",
    "    # load file into dictionary\n",
    "    dictionary = {} # init a dictionary to store all code words -- note: you can make this global for debugging purposes\n",
    "    with open(file) as f:\n",
    "        for line in f:\n",
    "            (key, val) = line.split()\n",
    "            dictionary[int(key)] = val\n",
    "    \n",
    "    # return a pyramid structure with the sorted dictionary number indexes, and the corresponding dictionary\n",
    "    return create_staircase(list(sorted(dictionary.keys()))), dictionary\n",
    "    \n",
    "def create_staircase(nums):\n",
    "    \"\"\"\n",
    "    Builds a numbers staircase.\n",
    " \n",
    "    Parameters\n",
    "    ----------\n",
    "    nums : float; list of numbers to arrange\n",
    " \n",
    "    Returns\n",
    "    -------\n",
    "    array[arrays]; array groupings for each step of the staircase\n",
    "    \"\"\"\n",
    "    \n",
    "    step = 1\n",
    "    subsets = []\n",
    "    while len(nums) != 0:\n",
    "        if len(nums) >= step:\n",
    "            subsets.append(nums[0:step])\n",
    "            nums = nums[step:]\n",
    "            step += 1\n",
    "        else:\n",
    "            return False\n",
    "    \n",
    "    return subsets"
   ]
  },
  {
   "cell_type": "code",
   "execution_count": 6,
   "id": "d3798495-c342-4573-8b32-36e0057dc7b9",
   "metadata": {
    "tags": []
   },
   "outputs": [
    {
     "name": "stdout",
     "output_type": "stream",
     "text": [
      "design all skill whole check deal wish visit now moment offer planet people electric lot huge system card current man way our parent wait\n"
     ]
    }
   ],
   "source": [
    "decode('coding_qual_input.txt')"
   ]
  },
  {
   "cell_type": "code",
   "execution_count": null,
   "id": "081847fc-9062-41bd-b0b2-7ea8785ba92a",
   "metadata": {},
   "outputs": [],
   "source": []
  }
 ],
 "metadata": {
  "kernelspec": {
   "display_name": "Python 3 (ipykernel)",
   "language": "python",
   "name": "python3"
  },
  "language_info": {
   "codemirror_mode": {
    "name": "ipython",
    "version": 3
   },
   "file_extension": ".py",
   "mimetype": "text/x-python",
   "name": "python",
   "nbconvert_exporter": "python",
   "pygments_lexer": "ipython3",
   "version": "3.11.3"
  }
 },
 "nbformat": 4,
 "nbformat_minor": 5
}
